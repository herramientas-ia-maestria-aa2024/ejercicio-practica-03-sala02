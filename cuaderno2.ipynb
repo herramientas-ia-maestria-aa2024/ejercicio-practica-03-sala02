{
 "cells": [
  {
   "cell_type": "code",
   "execution_count": 5,
   "id": "96dc0ba5-c22c-4ce7-8fc3-797c19cb2c57",
   "metadata": {},
   "outputs": [],
   "source": [
    "import pandas as pd"
   ]
  },
  {
   "cell_type": "code",
   "execution_count": 6,
   "id": "e1821bf2-d054-43f9-8f09-a8e9b2725e46",
   "metadata": {},
   "outputs": [],
   "source": [
    "data = pd.read_csv(\"practica-03-sala-02.csv\")"
   ]
  },
  {
   "cell_type": "code",
   "execution_count": null,
   "id": "7aaf91d4-d13b-4bb4-97a2-154b5c5506e8",
   "metadata": {},
   "outputs": [],
   "source": [
    "!pip install pygwalker"
   ]
  },
  {
   "cell_type": "code",
   "execution_count": 7,
   "id": "45dcf75e-54c6-48de-af3d-1ec6ba288106",
   "metadata": {},
   "outputs": [],
   "source": [
    "import pygwalker as pyg"
   ]
  },
  {
   "cell_type": "code",
   "execution_count": 8,
   "id": "cd265adc-77ec-4d89-bc70-5483d8d43e3d",
   "metadata": {},
   "outputs": [
    {
     "data": {
      "application/vnd.jupyter.widget-view+json": {
       "model_id": "d9cec944b1d74fb6b5f50e9afb47ec12",
       "version_major": 2,
       "version_minor": 0
      },
      "text/plain": [
       "Box(children=(HTML(value='<div id=\"ifr-pyg-000616cde1f83272fjBmZQdi5oyTgMzk\" style=\"height: auto\">\\n    <head>…"
      ]
     },
     "metadata": {},
     "output_type": "display_data"
    },
    {
     "data": {
      "text/html": [],
      "text/plain": [
       "<IPython.core.display.HTML object>"
      ]
     },
     "metadata": {},
     "output_type": "display_data"
    },
    {
     "data": {
      "text/plain": [
       "<pygwalker.api.pygwalker.PygWalker at 0x2120564e150>"
      ]
     },
     "execution_count": 8,
     "metadata": {},
     "output_type": "execute_result"
    }
   ],
   "source": [
    "pyg.walk(data)"
   ]
  },
  {
   "cell_type": "code",
   "execution_count": null,
   "id": "94dc24cd-9b2d-4fdc-a6e1-294d0d2b7398",
   "metadata": {},
   "outputs": [],
   "source": []
  }
 ],
 "metadata": {
  "kernelspec": {
   "display_name": "Python 3 (ipykernel)",
   "language": "python",
   "name": "python3"
  },
  "language_info": {
   "codemirror_mode": {
    "name": "ipython",
    "version": 3
   },
   "file_extension": ".py",
   "mimetype": "text/x-python",
   "name": "python",
   "nbconvert_exporter": "python",
   "pygments_lexer": "ipython3",
   "version": "3.12.3"
  }
 },
 "nbformat": 4,
 "nbformat_minor": 5
}
